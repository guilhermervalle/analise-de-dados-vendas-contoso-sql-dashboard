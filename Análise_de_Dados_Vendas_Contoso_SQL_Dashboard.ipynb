{
  "cells": [
    {
      "cell_type": "markdown",
      "metadata": {
        "id": "view-in-github",
        "colab_type": "text"
      },
      "source": [
        "<a href=\"https://colab.research.google.com/github/guilhermervalle/analise-de-dados-vendas-contoso-sql-dashboard/blob/main/An%C3%A1lise_de_Dados_Vendas_Contoso_SQL_Dashboard.ipynb\" target=\"_parent\"><img src=\"https://colab.research.google.com/assets/colab-badge.svg\" alt=\"Open In Colab\"/></a>"
      ]
    },
    {
      "cell_type": "markdown",
      "source": [
        "# **Análise de Dados: Vendas Contoso**"
      ],
      "metadata": {
        "id": "Vkrq7kN-zWDc"
      },
      "id": "Vkrq7kN-zWDc"
    },
    {
      "cell_type": "markdown",
      "source": [
        "## 1\\. Introdução"
      ],
      "metadata": {
        "id": "nvbFBVCizk36"
      },
      "id": "nvbFBVCizk36"
    },
    {
      "cell_type": "markdown",
      "source": [
        "### **1.1. TLDR** "
      ],
      "metadata": {
        "id": "TypuwpBAzm1P"
      },
      "id": "TypuwpBAzm1P"
    },
    {
      "cell_type": "markdown",
      "source": [
        " - **Dashboard**: \n",
        "  - PowerBI ([link](https://app.powerbi.com/view?r=eyJrIjoiM2UwOTMzZGUtYmJmNS00MjkyLThhNDgtMjI1MjIwOWI2MmY0IiwidCI6ImU5NDQzNjI0LWMwYzYtNDllNy05OTRiLTU0MTdhOTI0OGZiNCJ9&pageName=ReportSectiondbc8e694210ecd76ecb0)).\n",
        " - **Processamento**:\n",
        "  - Kaggle Notebook ([link](https://www.kaggle.com/guilhermervalle/analise-de-dados-vendas-contoso-sql-dashboard)). \n",
        " - **Fontes**: \n",
        "  - Conjunto de dados de demonstração de demonstração da Microsoft Contoso BI para o setor de varejo ([link](https://www.microsoft.com/en-us/download/details.aspx?id=18279));\n"
      ],
      "metadata": {
        "id": "tFHps_sAzt7F"
      },
      "id": "tFHps_sAzt7F"
    },
    {
      "cell_type": "markdown",
      "source": [
        "### **1.2. Dados** "
      ],
      "metadata": {
        "id": "o3lFHfbv1OXS"
      },
      "id": "o3lFHfbv1OXS"
    },
    {
      "cell_type": "markdown",
      "source": [
        "São um conjunto de dados de demonstração de varejo fictício usado para apresentar produtos microsoft Business Intelligence. Os dados são de 1 de janeiro de 2007 a 31 de dezembro de 2009. Abaixo estão descritos os dados derivados do seu processamento."
      ],
      "metadata": {
        "id": "6P00y2Ab1Wfc"
      },
      "id": "6P00y2Ab1Wfc"
    },
    {
      "cell_type": "markdown",
      "source": [
        "- **BrandName**: nome da marca;\n",
        "- **ChannelKey**: chave do canal de vendas;\n",
        "- **ChannelName**: nome do canal de vendas;\n",
        "- **ContinentName**: continente;\n",
        "- **DateKey**: data de referência;\n",
        "- **DiscountAmount**: valor de desconto;\n",
        "- **ProductCategoryName**: categoria do produto;\n",
        "- **ProductKey**: chave do produto;\n",
        "- **ProductName**: nome do produto;\n",
        "- **ProductSubcategoryName**: subcategoria do produto;\n",
        "- **Profit**: lucro;\n",
        "- **RegionCountryName**: país;\n",
        "- **ReturnAmount**: valor de retorno;\n",
        "- **ReturnQuantity**: quantidade de retorno;\n",
        "- **SalesAmount**: valor de venda;\n",
        "- **SalesKey**: chave da venda;\n",
        "- **SalesQuantity**: quantidade de venda;\n",
        "- **StoreKey**: chave da loja;\n",
        "- **StoreName**: nome da loja;\n",
        "- **TotalCost**: custo;\n",
        "- **UnitCost**: custo unitário do produto;\n",
        "- **UnitPrice**: preço unitário do produto;"
      ],
      "metadata": {
        "id": "okpPwe426tt2"
      },
      "id": "okpPwe426tt2"
    },
    {
      "cell_type": "markdown",
      "source": [
        "## 2\\. Análise Exploratória de Dados"
      ],
      "metadata": {
        "id": "7qHNah5-9yk8"
      },
      "id": "7qHNah5-9yk8"
    },
    {
      "cell_type": "markdown",
      "source": [
        "Nesta sessão vamos utilizar o software **Microsoft SQL Server Managent Studio 18** para processar os dados bruto em um formato adequado para um painel para exploração interativa de dados."
      ],
      "metadata": {
        "id": "xxawedYO_1r-"
      },
      "id": "xxawedYO_1r-"
    },
    {
      "cell_type": "markdown",
      "source": [
        "### **2.1. Extração**"
      ],
      "metadata": {
        "id": "N6O80EZAEB59"
      },
      "id": "N6O80EZAEB59"
    },
    {
      "cell_type": "markdown",
      "source": [
        "A base de dados Contoso contém várias tabelas. Devemos então filtrar quais tabelas fazem sentido utilizarmos para uma análise de vendas, que são as seguintes:\n",
        "\n",
        "*   **DimChannel**: canais de vendas;\n",
        "*   **DimGeography**: países e continentes onde foram realizadas as vendas;\n",
        "*   **DimProduct**: especificações dos produtos (nome, marca e etc);\n",
        "*   **DimProductCategory**: categorias em que os produtos são divididos;\n",
        "*   **DimProductSubategory**: subcategorias em que os produtos são divididos;\n",
        "*   **DimStore**: informações sobre as lojas (nome, localidade e etc);\n",
        "*   **FactSales**: dados sobre as todas vendas efetuadas (valor, custo e etc).\n",
        "\n",
        "![Base de dados](https://github.com/guilhermervalle/analise-de-dados-vendas-contoso-sql-dashboard/blob/main/Base_de_dados.PNG?raw=true)"
      ],
      "metadata": {
        "id": "T8p0cGthFT1P"
      },
      "id": "T8p0cGthFT1P"
    },
    {
      "cell_type": "markdown",
      "source": [
        "### **2.2. Processamento**"
      ],
      "metadata": {
        "id": "qjd_bBj2mDnN"
      },
      "id": "qjd_bBj2mDnN"
    },
    {
      "cell_type": "markdown",
      "source": [
        "Nessa etapa é aonde vamos criar querys (consultas) em SQL para processar os dados das tabelas que nos interessam  e criar as views para exporta-los."
      ],
      "metadata": {
        "id": "eCA_Vdzto4gR"
      },
      "id": "eCA_Vdzto4gR"
    },
    {
      "cell_type": "markdown",
      "source": [
        "### 2.2.1. Tabela FactSales"
      ],
      "metadata": {
        "id": "kvdqsPcs9TSU"
      },
      "id": "kvdqsPcs9TSU"
    },
    {
      "cell_type": "markdown",
      "source": [
        "Primeiro vamos começar analisando a tabela de vendas e decidir quais informações são relevantes e iremos utilizar no dashboard.\n",
        "\n",
        "**Query 1**: SELECT * FROM FactSales\n",
        "\n",
        "![Tabela de FactSales](https://github.com/guilhermervalle/analise-de-dados-vendas-contoso-sql-dashboard/blob/main/query_1.PNG?raw=true)\n",
        "\n",
        "As colunas escolhidas para a análise foram: SalesKey, DateKey com uma conversão de formato, Storekey, Productkey, Unitcost, UnitPrice, SalesQuantity, ReturnQuantity ReturnAmount, DiscountAmount, TotalCost, SalesAmount e foi criado a coluna Profit que é o cálculo de lucro.\n",
        "\n",
        "**Query 2**: CREATE VIEW vwVendas AS\n",
        "\n",
        "SELECT\n",
        "\n",
        "SalesKey,\n",
        "\n",
        "CONVERT(VARCHAR(10), DateKey, 103) AS 'DateKey',\n",
        "\n",
        "StoreKey,\n",
        "\n",
        "ProductKey,\n",
        "\n",
        "UnitCost,\n",
        "\n",
        "UnitPrice,\n",
        "\n",
        "SalesQuantity,\n",
        "\n",
        "ReturnQuantity,\n",
        "\n",
        "ReturnAmount,\n",
        "\n",
        "DiscountAmount,\n",
        "\n",
        "TotalCost,\n",
        "\n",
        "SalesAmount,\n",
        "\n",
        "(SalesAmount - TotalCost - ReturnAmount) as Profit\n",
        "\n",
        "FROM FactSales\n",
        "\n",
        "![View vwVendas](https://github.com/guilhermervalle/analise-de-dados-vendas-contoso-sql-dashboard/blob/main/query_2.PNG?raw=true)"
      ],
      "metadata": {
        "id": "oz2yqGsl9eZu"
      },
      "id": "oz2yqGsl9eZu"
    },
    {
      "cell_type": "markdown",
      "source": [
        "### 2.2.2. Tabela DimChannel"
      ],
      "metadata": {
        "id": "dPAOqZ8SReKK"
      },
      "id": "dPAOqZ8SReKK"
    },
    {
      "cell_type": "markdown",
      "source": [
        "Para visuliazar a tabela e decidir quais dados vamos usar.\n",
        "\n",
        "**Query 3**: SELECT * FROM DimChannel\n",
        "\n",
        "![Tabela DimChannel](https://github.com/guilhermervalle/analise-de-dados-vendas-contoso-sql-dashboard/blob/main/query_3.PNG?raw=true)\n",
        "\n",
        "Dessa tabela iremos utilizar apenas as colunas com as informações de chave do canal (ChannelKey) e nome (ChannelName).\n",
        "\n",
        "**Query 4**: CREATE VIEW vwCanais AS\n",
        " \n",
        "SELECT \n",
        "\n",
        "DimChannel.ChannelKey, \n",
        "\n",
        "DimChannel.ChannelName \n",
        "\n",
        "FROM DimChannel\n",
        "\n",
        "![View vwCanais](https://github.com/guilhermervalle/analise-de-dados-vendas-contoso-sql-dashboard/blob/main/query_4.PNG?raw=true)"
      ],
      "metadata": {
        "id": "bgfYZbGiRiEq"
      },
      "id": "bgfYZbGiRiEq"
    },
    {
      "cell_type": "markdown",
      "source": [
        "### 2.2.3. Tabela DimProduct"
      ],
      "metadata": {
        "id": "GpTuZ40CxTLu"
      },
      "id": "GpTuZ40CxTLu"
    },
    {
      "cell_type": "markdown",
      "source": [
        "Como temos 3 tabelas com informações sobre os produtos (DimProduct, DimProductCategory, DimProductSubcategory), é interessante juntar as 3 em uma tabela só. Para isso precisamos encontrar dados em comum entre as tabelas.\n",
        "\n",
        "**DimProduct**\n",
        "\n",
        "**Query 5**: SELECT * FROM DimProduct\n",
        "\n",
        "![Tabela DimProduct](https://github.com/guilhermervalle/analise-de-dados-vendas-contoso-sql-dashboard/blob/main/query_5.PNG?raw=true)\n",
        "\n",
        "**DimProductCategory**\n",
        "\n",
        "**Query 6**: SELECT * FROM DimProductCategory\n",
        "\n",
        "![Tabela DimProductCategory](https://github.com/guilhermervalle/analise-de-dados-vendas-contoso-sql-dashboard/blob/main/query_6.PNG?raw=true)\n",
        "\n",
        "**DimProductSubcategory**\n",
        "\n",
        "**Query 7**: SELECT * FROM DimProductSubcategory\n",
        "\n",
        "![Tabela DimProductSubcategory](https://github.com/guilhermervalle/analise-de-dados-vendas-contoso-sql-dashboard/blob/main/query_7.PNG?raw=true)\n",
        "\n",
        "Podemos notar que a tabela DimProduct e a DimProductSubcategory possuem em comum a coluna ProductSubcategoryKey. As tabelas DimProductSubcategory e DimProductCategory tem em comum a coluna ProductCategoryKey. Então primeiro vamos juntar os dados das tabelas DimProduct e DimProductSubcategory e depois acrescentar os dados da DimProductCategory.\n",
        "\n",
        "**Query 8**: CREATE VIEW vwProdutos AS\n",
        "\n",
        "SELECT \n",
        "\n",
        "DimProduct.ProductKey,\n",
        "\n",
        "DimProduct.ProductName,\n",
        "\n",
        "DimProduct.BrandName,\n",
        "\n",
        "DimProductSubcategory.ProductSubcategoryName,\n",
        "\n",
        "DimProductCategory.ProductCategoryName\n",
        "\n",
        "FROM DimProduct\n",
        "\n",
        "LEFT JOIN DimProductSubcategory ON DimProduct.ProductSubcategoryKey = DimProductSubcategory.ProductSubcategoryKey\n",
        "\n",
        "LEFT JOIN DimProductCategory ON DimProductSubcategory.ProductCategoryKey = DimProductCategory.ProductCategoryKey\n",
        "\n",
        "![View vwProdutos](https://github.com/guilhermervalle/analise-de-dados-vendas-contoso-sql-dashboard/blob/main/query_8.PNG?raw=true)"
      ],
      "metadata": {
        "id": "VEznlklwzNB5"
      },
      "id": "VEznlklwzNB5"
    },
    {
      "cell_type": "markdown",
      "source": [
        "### 2.2.4. Tabela DimStore"
      ],
      "metadata": {
        "id": "7DxiUEPiS4x3"
      },
      "id": "7DxiUEPiS4x3"
    },
    {
      "cell_type": "markdown",
      "source": [
        "**Query 9**: SELECT * FROM DimStore\n",
        "\n",
        "![Tabela DimStore](https://github.com/guilhermervalle/analise-de-dados-vendas-contoso-sql-dashboard/blob/main/query_9.PNG?raw=true)\n",
        "\n",
        "Podemos observar que não há informações sobre o país e continente aonde as lojas estão localizadas. Para conseguir esses dados iremos novamente juntar tabelas. Dessa vez uniremos as tabelas DimStore com a DimGeography que contém as informações que buscamos, como podemos ver na imagem abaixo.\n",
        "\n",
        "**Query 10**: SELECT * FROM DimGeography\n",
        "\n",
        "![Tabela DimGeography](https://github.com/guilhermervalle/analise-de-dados-vendas-contoso-sql-dashboard/blob/main/query_10.PNG?raw=true)\n",
        "\n",
        "**Query 11**: CREATE VIEW vwLojas AS\n",
        "\n",
        "SELECT\n",
        "\n",
        "DimStore.StoreKey,\n",
        "\n",
        "DimStore.StoreName,\n",
        "\n",
        "DimStore.StoreType,\n",
        "\n",
        "DimGeography.RegionCountryName,\n",
        "\n",
        "DimGeography.ContinentName\n",
        "\n",
        "FROM DimStore\n",
        "\n",
        "LEFT JOIN DimGeography ON DimStore.GeographyKey = DimGeography.GeographyKey\n",
        "\n",
        "![View vwLojas](https://github.com/guilhermervalle/analise-de-dados-vendas-contoso-sql-dashboard/blob/main/query_11.PNG?raw=true)"
      ],
      "metadata": {
        "id": "4Jw3GqwoTEK8"
      },
      "id": "4Jw3GqwoTEK8"
    },
    {
      "cell_type": "markdown",
      "source": [
        "### **2.3. Exportação**"
      ],
      "metadata": {
        "id": "cnQbvaevtfgY"
      },
      "id": "cnQbvaevtfgY"
    },
    {
      "cell_type": "markdown",
      "source": [
        "Com todas as view criadas (vwVendas, vwCanais, vwProdutos e vwLojas), vamos exportar os dados para o Power BI para criação do dashboard."
      ],
      "metadata": {
        "id": "KAuDQdLVt1Gj"
      },
      "id": "KAuDQdLVt1Gj"
    },
    {
      "cell_type": "markdown",
      "source": [
        "# 3\\. Exploração Interativa de Dados"
      ],
      "metadata": {
        "id": "SQWY4GnRzUCS"
      },
      "id": "SQWY4GnRzUCS"
    },
    {
      "cell_type": "markdown",
      "source": [
        "## **3.1. KPIs**"
      ],
      "metadata": {
        "id": "Rm12i98WpgOv"
      },
      "id": "Rm12i98WpgOv"
    },
    {
      "cell_type": "markdown",
      "source": [
        "O dashboard de dados contém os seguintes indicadores chaves de desempenho (*key performance indicator* ou KPI) consolidados:\n",
        "\n",
        "1. Faturamento total;\n",
        "1. Lucro;\n",
        "1. Número de vendas ;\n",
        "1. Número de devoluções;\n",
        "1. Custo total;\n",
        "1. Margem de lucro."
      ],
      "metadata": {
        "id": "V2mWe6UeqXBW"
      },
      "id": "V2mWe6UeqXBW"
    },
    {
      "cell_type": "markdown",
      "source": [
        "## **3.2. EDA**"
      ],
      "metadata": {
        "id": "9pf1SDXyuxDp"
      },
      "id": "9pf1SDXyuxDp"
    },
    {
      "cell_type": "markdown",
      "source": [
        "O dashboard de dados contém os seguintes gráficos para a análise exploratória de dados (*exploratory data analysis*\n",
        "\n",
        "ou EDA) interativa:\n",
        "\n",
        "\n",
        "\n",
        "1. Comparação entre faturamento e lucro ao longo do tempo;\n",
        "1. Comparação do lucro entre as marcas;\n",
        "1. Comparação do lucro entre os canais de vendas;\n",
        "1. Árvore de produtos com base no lucro;\n",
        "1. Visão geral sobre cada loja;\n",
        "1. Distribuição geográfica das lojas;\n",
        "1. Comparação do lucro entre os países."
      ],
      "metadata": {
        "id": "2I52f51lu1xi"
      },
      "id": "2I52f51lu1xi"
    }
  ],
  "metadata": {
    "kernelspec": {
      "display_name": "Python 3",
      "language": "python",
      "name": "python3"
    },
    "language_info": {
      "codemirror_mode": {
        "name": "ipython",
        "version": 3
      },
      "file_extension": ".py",
      "mimetype": "text/x-python",
      "name": "python",
      "nbconvert_exporter": "python",
      "pygments_lexer": "ipython3",
      "version": "3.7.10"
    },
    "papermill": {
      "default_parameters": {},
      "duration": 9.822258,
      "end_time": "2021-07-20T20:16:14.798746",
      "environment_variables": {},
      "exception": null,
      "input_path": "__notebook__.ipynb",
      "output_path": "__notebook__.ipynb",
      "parameters": {},
      "start_time": "2021-07-20T20:16:04.976488",
      "version": "2.3.3"
    },
    "colab": {
      "name": "Análise de Dados: Vendas Contoso - SQL - Dashboard.ipynb",
      "provenance": [],
      "collapsed_sections": [],
      "include_colab_link": true
    }
  },
  "nbformat": 4,
  "nbformat_minor": 5
}